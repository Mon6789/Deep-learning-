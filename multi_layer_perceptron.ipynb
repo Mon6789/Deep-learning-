{
  "nbformat": 4,
  "nbformat_minor": 0,
  "metadata": {
    "colab": {
      "provenance": [],
      "authorship_tag": "ABX9TyPGRVD74lWwyGxZdkhKZGU1",
      "include_colab_link": true
    },
    "kernelspec": {
      "name": "python3",
      "display_name": "Python 3"
    },
    "language_info": {
      "name": "python"
    }
  },
  "cells": [
    {
      "cell_type": "markdown",
      "metadata": {
        "id": "view-in-github",
        "colab_type": "text"
      },
      "source": [
        "<a href=\"https://colab.research.google.com/github/Mon6789/Deep-learning-/blob/main/multi_layer_perceptron.ipynb\" target=\"_parent\"><img src=\"https://colab.research.google.com/assets/colab-badge.svg\" alt=\"Open In Colab\"/></a>"
      ]
    },
    {
      "cell_type": "markdown",
      "source": [
        "### ***multi layer perceptron***"
      ],
      "metadata": {
        "id": "x45GG6wp21tc"
      }
    },
    {
      "cell_type": "code",
      "execution_count": 1,
      "metadata": {
        "id": "vifiQq8b0mci"
      },
      "outputs": [],
      "source": [
        "\n",
        "import numpy as np"
      ]
    },
    {
      "cell_type": "code",
      "source": [
        "from numpy import argmax"
      ],
      "metadata": {
        "id": "hzp8A2WL3rr0"
      },
      "execution_count": 2,
      "outputs": []
    },
    {
      "cell_type": "code",
      "source": [
        "from sklearn.datasets import load_iris"
      ],
      "metadata": {
        "id": "S9y3Ekdd34za"
      },
      "execution_count": 3,
      "outputs": []
    },
    {
      "cell_type": "code",
      "source": [
        "from sklearn.model_selection import train_test_split"
      ],
      "metadata": {
        "id": "sAunvDab4QYz"
      },
      "execution_count": 4,
      "outputs": []
    },
    {
      "cell_type": "code",
      "source": [
        "from tensorflow.keras.layers import Dense\n",
        "from tensorflow.keras import Sequential"
      ],
      "metadata": {
        "id": "f_6vQ9g35Xtr"
      },
      "execution_count": 5,
      "outputs": []
    },
    {
      "cell_type": "code",
      "source": [
        "Iris_data=load_iris()"
      ],
      "metadata": {
        "id": "kYZaLVOY6YWr"
      },
      "execution_count": 6,
      "outputs": []
    },
    {
      "cell_type": "code",
      "source": [
        "\n",
        "Iris_data"
      ],
      "metadata": {
        "id": "wf6eFwCV6lHJ",
        "colab": {
          "base_uri": "https://localhost:8080/"
        },
        "outputId": "4a8b059b-5fda-4528-bbca-f81233ae68d6"
      },
      "execution_count": 7,
      "outputs": [
        {
          "output_type": "execute_result",
          "data": {
            "text/plain": [
              "{'data': array([[5.1, 3.5, 1.4, 0.2],\n",
              "        [4.9, 3. , 1.4, 0.2],\n",
              "        [4.7, 3.2, 1.3, 0.2],\n",
              "        [4.6, 3.1, 1.5, 0.2],\n",
              "        [5. , 3.6, 1.4, 0.2],\n",
              "        [5.4, 3.9, 1.7, 0.4],\n",
              "        [4.6, 3.4, 1.4, 0.3],\n",
              "        [5. , 3.4, 1.5, 0.2],\n",
              "        [4.4, 2.9, 1.4, 0.2],\n",
              "        [4.9, 3.1, 1.5, 0.1],\n",
              "        [5.4, 3.7, 1.5, 0.2],\n",
              "        [4.8, 3.4, 1.6, 0.2],\n",
              "        [4.8, 3. , 1.4, 0.1],\n",
              "        [4.3, 3. , 1.1, 0.1],\n",
              "        [5.8, 4. , 1.2, 0.2],\n",
              "        [5.7, 4.4, 1.5, 0.4],\n",
              "        [5.4, 3.9, 1.3, 0.4],\n",
              "        [5.1, 3.5, 1.4, 0.3],\n",
              "        [5.7, 3.8, 1.7, 0.3],\n",
              "        [5.1, 3.8, 1.5, 0.3],\n",
              "        [5.4, 3.4, 1.7, 0.2],\n",
              "        [5.1, 3.7, 1.5, 0.4],\n",
              "        [4.6, 3.6, 1. , 0.2],\n",
              "        [5.1, 3.3, 1.7, 0.5],\n",
              "        [4.8, 3.4, 1.9, 0.2],\n",
              "        [5. , 3. , 1.6, 0.2],\n",
              "        [5. , 3.4, 1.6, 0.4],\n",
              "        [5.2, 3.5, 1.5, 0.2],\n",
              "        [5.2, 3.4, 1.4, 0.2],\n",
              "        [4.7, 3.2, 1.6, 0.2],\n",
              "        [4.8, 3.1, 1.6, 0.2],\n",
              "        [5.4, 3.4, 1.5, 0.4],\n",
              "        [5.2, 4.1, 1.5, 0.1],\n",
              "        [5.5, 4.2, 1.4, 0.2],\n",
              "        [4.9, 3.1, 1.5, 0.2],\n",
              "        [5. , 3.2, 1.2, 0.2],\n",
              "        [5.5, 3.5, 1.3, 0.2],\n",
              "        [4.9, 3.6, 1.4, 0.1],\n",
              "        [4.4, 3. , 1.3, 0.2],\n",
              "        [5.1, 3.4, 1.5, 0.2],\n",
              "        [5. , 3.5, 1.3, 0.3],\n",
              "        [4.5, 2.3, 1.3, 0.3],\n",
              "        [4.4, 3.2, 1.3, 0.2],\n",
              "        [5. , 3.5, 1.6, 0.6],\n",
              "        [5.1, 3.8, 1.9, 0.4],\n",
              "        [4.8, 3. , 1.4, 0.3],\n",
              "        [5.1, 3.8, 1.6, 0.2],\n",
              "        [4.6, 3.2, 1.4, 0.2],\n",
              "        [5.3, 3.7, 1.5, 0.2],\n",
              "        [5. , 3.3, 1.4, 0.2],\n",
              "        [7. , 3.2, 4.7, 1.4],\n",
              "        [6.4, 3.2, 4.5, 1.5],\n",
              "        [6.9, 3.1, 4.9, 1.5],\n",
              "        [5.5, 2.3, 4. , 1.3],\n",
              "        [6.5, 2.8, 4.6, 1.5],\n",
              "        [5.7, 2.8, 4.5, 1.3],\n",
              "        [6.3, 3.3, 4.7, 1.6],\n",
              "        [4.9, 2.4, 3.3, 1. ],\n",
              "        [6.6, 2.9, 4.6, 1.3],\n",
              "        [5.2, 2.7, 3.9, 1.4],\n",
              "        [5. , 2. , 3.5, 1. ],\n",
              "        [5.9, 3. , 4.2, 1.5],\n",
              "        [6. , 2.2, 4. , 1. ],\n",
              "        [6.1, 2.9, 4.7, 1.4],\n",
              "        [5.6, 2.9, 3.6, 1.3],\n",
              "        [6.7, 3.1, 4.4, 1.4],\n",
              "        [5.6, 3. , 4.5, 1.5],\n",
              "        [5.8, 2.7, 4.1, 1. ],\n",
              "        [6.2, 2.2, 4.5, 1.5],\n",
              "        [5.6, 2.5, 3.9, 1.1],\n",
              "        [5.9, 3.2, 4.8, 1.8],\n",
              "        [6.1, 2.8, 4. , 1.3],\n",
              "        [6.3, 2.5, 4.9, 1.5],\n",
              "        [6.1, 2.8, 4.7, 1.2],\n",
              "        [6.4, 2.9, 4.3, 1.3],\n",
              "        [6.6, 3. , 4.4, 1.4],\n",
              "        [6.8, 2.8, 4.8, 1.4],\n",
              "        [6.7, 3. , 5. , 1.7],\n",
              "        [6. , 2.9, 4.5, 1.5],\n",
              "        [5.7, 2.6, 3.5, 1. ],\n",
              "        [5.5, 2.4, 3.8, 1.1],\n",
              "        [5.5, 2.4, 3.7, 1. ],\n",
              "        [5.8, 2.7, 3.9, 1.2],\n",
              "        [6. , 2.7, 5.1, 1.6],\n",
              "        [5.4, 3. , 4.5, 1.5],\n",
              "        [6. , 3.4, 4.5, 1.6],\n",
              "        [6.7, 3.1, 4.7, 1.5],\n",
              "        [6.3, 2.3, 4.4, 1.3],\n",
              "        [5.6, 3. , 4.1, 1.3],\n",
              "        [5.5, 2.5, 4. , 1.3],\n",
              "        [5.5, 2.6, 4.4, 1.2],\n",
              "        [6.1, 3. , 4.6, 1.4],\n",
              "        [5.8, 2.6, 4. , 1.2],\n",
              "        [5. , 2.3, 3.3, 1. ],\n",
              "        [5.6, 2.7, 4.2, 1.3],\n",
              "        [5.7, 3. , 4.2, 1.2],\n",
              "        [5.7, 2.9, 4.2, 1.3],\n",
              "        [6.2, 2.9, 4.3, 1.3],\n",
              "        [5.1, 2.5, 3. , 1.1],\n",
              "        [5.7, 2.8, 4.1, 1.3],\n",
              "        [6.3, 3.3, 6. , 2.5],\n",
              "        [5.8, 2.7, 5.1, 1.9],\n",
              "        [7.1, 3. , 5.9, 2.1],\n",
              "        [6.3, 2.9, 5.6, 1.8],\n",
              "        [6.5, 3. , 5.8, 2.2],\n",
              "        [7.6, 3. , 6.6, 2.1],\n",
              "        [4.9, 2.5, 4.5, 1.7],\n",
              "        [7.3, 2.9, 6.3, 1.8],\n",
              "        [6.7, 2.5, 5.8, 1.8],\n",
              "        [7.2, 3.6, 6.1, 2.5],\n",
              "        [6.5, 3.2, 5.1, 2. ],\n",
              "        [6.4, 2.7, 5.3, 1.9],\n",
              "        [6.8, 3. , 5.5, 2.1],\n",
              "        [5.7, 2.5, 5. , 2. ],\n",
              "        [5.8, 2.8, 5.1, 2.4],\n",
              "        [6.4, 3.2, 5.3, 2.3],\n",
              "        [6.5, 3. , 5.5, 1.8],\n",
              "        [7.7, 3.8, 6.7, 2.2],\n",
              "        [7.7, 2.6, 6.9, 2.3],\n",
              "        [6. , 2.2, 5. , 1.5],\n",
              "        [6.9, 3.2, 5.7, 2.3],\n",
              "        [5.6, 2.8, 4.9, 2. ],\n",
              "        [7.7, 2.8, 6.7, 2. ],\n",
              "        [6.3, 2.7, 4.9, 1.8],\n",
              "        [6.7, 3.3, 5.7, 2.1],\n",
              "        [7.2, 3.2, 6. , 1.8],\n",
              "        [6.2, 2.8, 4.8, 1.8],\n",
              "        [6.1, 3. , 4.9, 1.8],\n",
              "        [6.4, 2.8, 5.6, 2.1],\n",
              "        [7.2, 3. , 5.8, 1.6],\n",
              "        [7.4, 2.8, 6.1, 1.9],\n",
              "        [7.9, 3.8, 6.4, 2. ],\n",
              "        [6.4, 2.8, 5.6, 2.2],\n",
              "        [6.3, 2.8, 5.1, 1.5],\n",
              "        [6.1, 2.6, 5.6, 1.4],\n",
              "        [7.7, 3. , 6.1, 2.3],\n",
              "        [6.3, 3.4, 5.6, 2.4],\n",
              "        [6.4, 3.1, 5.5, 1.8],\n",
              "        [6. , 3. , 4.8, 1.8],\n",
              "        [6.9, 3.1, 5.4, 2.1],\n",
              "        [6.7, 3.1, 5.6, 2.4],\n",
              "        [6.9, 3.1, 5.1, 2.3],\n",
              "        [5.8, 2.7, 5.1, 1.9],\n",
              "        [6.8, 3.2, 5.9, 2.3],\n",
              "        [6.7, 3.3, 5.7, 2.5],\n",
              "        [6.7, 3. , 5.2, 2.3],\n",
              "        [6.3, 2.5, 5. , 1.9],\n",
              "        [6.5, 3. , 5.2, 2. ],\n",
              "        [6.2, 3.4, 5.4, 2.3],\n",
              "        [5.9, 3. , 5.1, 1.8]]),\n",
              " 'target': array([0, 0, 0, 0, 0, 0, 0, 0, 0, 0, 0, 0, 0, 0, 0, 0, 0, 0, 0, 0, 0, 0,\n",
              "        0, 0, 0, 0, 0, 0, 0, 0, 0, 0, 0, 0, 0, 0, 0, 0, 0, 0, 0, 0, 0, 0,\n",
              "        0, 0, 0, 0, 0, 0, 1, 1, 1, 1, 1, 1, 1, 1, 1, 1, 1, 1, 1, 1, 1, 1,\n",
              "        1, 1, 1, 1, 1, 1, 1, 1, 1, 1, 1, 1, 1, 1, 1, 1, 1, 1, 1, 1, 1, 1,\n",
              "        1, 1, 1, 1, 1, 1, 1, 1, 1, 1, 1, 1, 2, 2, 2, 2, 2, 2, 2, 2, 2, 2,\n",
              "        2, 2, 2, 2, 2, 2, 2, 2, 2, 2, 2, 2, 2, 2, 2, 2, 2, 2, 2, 2, 2, 2,\n",
              "        2, 2, 2, 2, 2, 2, 2, 2, 2, 2, 2, 2, 2, 2, 2, 2, 2, 2]),\n",
              " 'frame': None,\n",
              " 'target_names': array(['setosa', 'versicolor', 'virginica'], dtype='<U10'),\n",
              " 'DESCR': '.. _iris_dataset:\\n\\nIris plants dataset\\n--------------------\\n\\n**Data Set Characteristics:**\\n\\n    :Number of Instances: 150 (50 in each of three classes)\\n    :Number of Attributes: 4 numeric, predictive attributes and the class\\n    :Attribute Information:\\n        - sepal length in cm\\n        - sepal width in cm\\n        - petal length in cm\\n        - petal width in cm\\n        - class:\\n                - Iris-Setosa\\n                - Iris-Versicolour\\n                - Iris-Virginica\\n                \\n    :Summary Statistics:\\n\\n    ============== ==== ==== ======= ===== ====================\\n                    Min  Max   Mean    SD   Class Correlation\\n    ============== ==== ==== ======= ===== ====================\\n    sepal length:   4.3  7.9   5.84   0.83    0.7826\\n    sepal width:    2.0  4.4   3.05   0.43   -0.4194\\n    petal length:   1.0  6.9   3.76   1.76    0.9490  (high!)\\n    petal width:    0.1  2.5   1.20   0.76    0.9565  (high!)\\n    ============== ==== ==== ======= ===== ====================\\n\\n    :Missing Attribute Values: None\\n    :Class Distribution: 33.3% for each of 3 classes.\\n    :Creator: R.A. Fisher\\n    :Donor: Michael Marshall (MARSHALL%PLU@io.arc.nasa.gov)\\n    :Date: July, 1988\\n\\nThe famous Iris database, first used by Sir R.A. Fisher. The dataset is taken\\nfrom Fisher\\'s paper. Note that it\\'s the same as in R, but not as in the UCI\\nMachine Learning Repository, which has two wrong data points.\\n\\nThis is perhaps the best known database to be found in the\\npattern recognition literature.  Fisher\\'s paper is a classic in the field and\\nis referenced frequently to this day.  (See Duda & Hart, for example.)  The\\ndata set contains 3 classes of 50 instances each, where each class refers to a\\ntype of iris plant.  One class is linearly separable from the other 2; the\\nlatter are NOT linearly separable from each other.\\n\\n.. topic:: References\\n\\n   - Fisher, R.A. \"The use of multiple measurements in taxonomic problems\"\\n     Annual Eugenics, 7, Part II, 179-188 (1936); also in \"Contributions to\\n     Mathematical Statistics\" (John Wiley, NY, 1950).\\n   - Duda, R.O., & Hart, P.E. (1973) Pattern Classification and Scene Analysis.\\n     (Q327.D83) John Wiley & Sons.  ISBN 0-471-22361-1.  See page 218.\\n   - Dasarathy, B.V. (1980) \"Nosing Around the Neighborhood: A New System\\n     Structure and Classification Rule for Recognition in Partially Exposed\\n     Environments\".  IEEE Transactions on Pattern Analysis and Machine\\n     Intelligence, Vol. PAMI-2, No. 1, 67-71.\\n   - Gates, G.W. (1972) \"The Reduced Nearest Neighbor Rule\".  IEEE Transactions\\n     on Information Theory, May 1972, 431-433.\\n   - See also: 1988 MLC Proceedings, 54-64.  Cheeseman et al\"s AUTOCLASS II\\n     conceptual clustering system finds 3 classes in the data.\\n   - Many, many more ...',\n",
              " 'feature_names': ['sepal length (cm)',\n",
              "  'sepal width (cm)',\n",
              "  'petal length (cm)',\n",
              "  'petal width (cm)'],\n",
              " 'filename': 'iris.csv',\n",
              " 'data_module': 'sklearn.datasets.data'}"
            ]
          },
          "metadata": {},
          "execution_count": 7
        }
      ]
    },
    {
      "cell_type": "code",
      "source": [
        "x=Iris_data.data[:,:].astype('float32')"
      ],
      "metadata": {
        "id": "2DjPK3ki6oPx"
      },
      "execution_count": 8,
      "outputs": []
    },
    {
      "cell_type": "code",
      "source": [
        "y=Iris_data.target"
      ],
      "metadata": {
        "id": "SNcU3SGa7c7X"
      },
      "execution_count": 10,
      "outputs": []
    },
    {
      "cell_type": "code",
      "source": [
        "x"
      ],
      "metadata": {
        "colab": {
          "base_uri": "https://localhost:8080/"
        },
        "id": "UX6Y8ppH7mB2",
        "outputId": "66e0841e-4680-4c74-a825-11e1006cad3a"
      },
      "execution_count": 9,
      "outputs": [
        {
          "output_type": "execute_result",
          "data": {
            "text/plain": [
              "array([[5.1, 3.5, 1.4, 0.2],\n",
              "       [4.9, 3. , 1.4, 0.2],\n",
              "       [4.7, 3.2, 1.3, 0.2],\n",
              "       [4.6, 3.1, 1.5, 0.2],\n",
              "       [5. , 3.6, 1.4, 0.2],\n",
              "       [5.4, 3.9, 1.7, 0.4],\n",
              "       [4.6, 3.4, 1.4, 0.3],\n",
              "       [5. , 3.4, 1.5, 0.2],\n",
              "       [4.4, 2.9, 1.4, 0.2],\n",
              "       [4.9, 3.1, 1.5, 0.1],\n",
              "       [5.4, 3.7, 1.5, 0.2],\n",
              "       [4.8, 3.4, 1.6, 0.2],\n",
              "       [4.8, 3. , 1.4, 0.1],\n",
              "       [4.3, 3. , 1.1, 0.1],\n",
              "       [5.8, 4. , 1.2, 0.2],\n",
              "       [5.7, 4.4, 1.5, 0.4],\n",
              "       [5.4, 3.9, 1.3, 0.4],\n",
              "       [5.1, 3.5, 1.4, 0.3],\n",
              "       [5.7, 3.8, 1.7, 0.3],\n",
              "       [5.1, 3.8, 1.5, 0.3],\n",
              "       [5.4, 3.4, 1.7, 0.2],\n",
              "       [5.1, 3.7, 1.5, 0.4],\n",
              "       [4.6, 3.6, 1. , 0.2],\n",
              "       [5.1, 3.3, 1.7, 0.5],\n",
              "       [4.8, 3.4, 1.9, 0.2],\n",
              "       [5. , 3. , 1.6, 0.2],\n",
              "       [5. , 3.4, 1.6, 0.4],\n",
              "       [5.2, 3.5, 1.5, 0.2],\n",
              "       [5.2, 3.4, 1.4, 0.2],\n",
              "       [4.7, 3.2, 1.6, 0.2],\n",
              "       [4.8, 3.1, 1.6, 0.2],\n",
              "       [5.4, 3.4, 1.5, 0.4],\n",
              "       [5.2, 4.1, 1.5, 0.1],\n",
              "       [5.5, 4.2, 1.4, 0.2],\n",
              "       [4.9, 3.1, 1.5, 0.2],\n",
              "       [5. , 3.2, 1.2, 0.2],\n",
              "       [5.5, 3.5, 1.3, 0.2],\n",
              "       [4.9, 3.6, 1.4, 0.1],\n",
              "       [4.4, 3. , 1.3, 0.2],\n",
              "       [5.1, 3.4, 1.5, 0.2],\n",
              "       [5. , 3.5, 1.3, 0.3],\n",
              "       [4.5, 2.3, 1.3, 0.3],\n",
              "       [4.4, 3.2, 1.3, 0.2],\n",
              "       [5. , 3.5, 1.6, 0.6],\n",
              "       [5.1, 3.8, 1.9, 0.4],\n",
              "       [4.8, 3. , 1.4, 0.3],\n",
              "       [5.1, 3.8, 1.6, 0.2],\n",
              "       [4.6, 3.2, 1.4, 0.2],\n",
              "       [5.3, 3.7, 1.5, 0.2],\n",
              "       [5. , 3.3, 1.4, 0.2],\n",
              "       [7. , 3.2, 4.7, 1.4],\n",
              "       [6.4, 3.2, 4.5, 1.5],\n",
              "       [6.9, 3.1, 4.9, 1.5],\n",
              "       [5.5, 2.3, 4. , 1.3],\n",
              "       [6.5, 2.8, 4.6, 1.5],\n",
              "       [5.7, 2.8, 4.5, 1.3],\n",
              "       [6.3, 3.3, 4.7, 1.6],\n",
              "       [4.9, 2.4, 3.3, 1. ],\n",
              "       [6.6, 2.9, 4.6, 1.3],\n",
              "       [5.2, 2.7, 3.9, 1.4],\n",
              "       [5. , 2. , 3.5, 1. ],\n",
              "       [5.9, 3. , 4.2, 1.5],\n",
              "       [6. , 2.2, 4. , 1. ],\n",
              "       [6.1, 2.9, 4.7, 1.4],\n",
              "       [5.6, 2.9, 3.6, 1.3],\n",
              "       [6.7, 3.1, 4.4, 1.4],\n",
              "       [5.6, 3. , 4.5, 1.5],\n",
              "       [5.8, 2.7, 4.1, 1. ],\n",
              "       [6.2, 2.2, 4.5, 1.5],\n",
              "       [5.6, 2.5, 3.9, 1.1],\n",
              "       [5.9, 3.2, 4.8, 1.8],\n",
              "       [6.1, 2.8, 4. , 1.3],\n",
              "       [6.3, 2.5, 4.9, 1.5],\n",
              "       [6.1, 2.8, 4.7, 1.2],\n",
              "       [6.4, 2.9, 4.3, 1.3],\n",
              "       [6.6, 3. , 4.4, 1.4],\n",
              "       [6.8, 2.8, 4.8, 1.4],\n",
              "       [6.7, 3. , 5. , 1.7],\n",
              "       [6. , 2.9, 4.5, 1.5],\n",
              "       [5.7, 2.6, 3.5, 1. ],\n",
              "       [5.5, 2.4, 3.8, 1.1],\n",
              "       [5.5, 2.4, 3.7, 1. ],\n",
              "       [5.8, 2.7, 3.9, 1.2],\n",
              "       [6. , 2.7, 5.1, 1.6],\n",
              "       [5.4, 3. , 4.5, 1.5],\n",
              "       [6. , 3.4, 4.5, 1.6],\n",
              "       [6.7, 3.1, 4.7, 1.5],\n",
              "       [6.3, 2.3, 4.4, 1.3],\n",
              "       [5.6, 3. , 4.1, 1.3],\n",
              "       [5.5, 2.5, 4. , 1.3],\n",
              "       [5.5, 2.6, 4.4, 1.2],\n",
              "       [6.1, 3. , 4.6, 1.4],\n",
              "       [5.8, 2.6, 4. , 1.2],\n",
              "       [5. , 2.3, 3.3, 1. ],\n",
              "       [5.6, 2.7, 4.2, 1.3],\n",
              "       [5.7, 3. , 4.2, 1.2],\n",
              "       [5.7, 2.9, 4.2, 1.3],\n",
              "       [6.2, 2.9, 4.3, 1.3],\n",
              "       [5.1, 2.5, 3. , 1.1],\n",
              "       [5.7, 2.8, 4.1, 1.3],\n",
              "       [6.3, 3.3, 6. , 2.5],\n",
              "       [5.8, 2.7, 5.1, 1.9],\n",
              "       [7.1, 3. , 5.9, 2.1],\n",
              "       [6.3, 2.9, 5.6, 1.8],\n",
              "       [6.5, 3. , 5.8, 2.2],\n",
              "       [7.6, 3. , 6.6, 2.1],\n",
              "       [4.9, 2.5, 4.5, 1.7],\n",
              "       [7.3, 2.9, 6.3, 1.8],\n",
              "       [6.7, 2.5, 5.8, 1.8],\n",
              "       [7.2, 3.6, 6.1, 2.5],\n",
              "       [6.5, 3.2, 5.1, 2. ],\n",
              "       [6.4, 2.7, 5.3, 1.9],\n",
              "       [6.8, 3. , 5.5, 2.1],\n",
              "       [5.7, 2.5, 5. , 2. ],\n",
              "       [5.8, 2.8, 5.1, 2.4],\n",
              "       [6.4, 3.2, 5.3, 2.3],\n",
              "       [6.5, 3. , 5.5, 1.8],\n",
              "       [7.7, 3.8, 6.7, 2.2],\n",
              "       [7.7, 2.6, 6.9, 2.3],\n",
              "       [6. , 2.2, 5. , 1.5],\n",
              "       [6.9, 3.2, 5.7, 2.3],\n",
              "       [5.6, 2.8, 4.9, 2. ],\n",
              "       [7.7, 2.8, 6.7, 2. ],\n",
              "       [6.3, 2.7, 4.9, 1.8],\n",
              "       [6.7, 3.3, 5.7, 2.1],\n",
              "       [7.2, 3.2, 6. , 1.8],\n",
              "       [6.2, 2.8, 4.8, 1.8],\n",
              "       [6.1, 3. , 4.9, 1.8],\n",
              "       [6.4, 2.8, 5.6, 2.1],\n",
              "       [7.2, 3. , 5.8, 1.6],\n",
              "       [7.4, 2.8, 6.1, 1.9],\n",
              "       [7.9, 3.8, 6.4, 2. ],\n",
              "       [6.4, 2.8, 5.6, 2.2],\n",
              "       [6.3, 2.8, 5.1, 1.5],\n",
              "       [6.1, 2.6, 5.6, 1.4],\n",
              "       [7.7, 3. , 6.1, 2.3],\n",
              "       [6.3, 3.4, 5.6, 2.4],\n",
              "       [6.4, 3.1, 5.5, 1.8],\n",
              "       [6. , 3. , 4.8, 1.8],\n",
              "       [6.9, 3.1, 5.4, 2.1],\n",
              "       [6.7, 3.1, 5.6, 2.4],\n",
              "       [6.9, 3.1, 5.1, 2.3],\n",
              "       [5.8, 2.7, 5.1, 1.9],\n",
              "       [6.8, 3.2, 5.9, 2.3],\n",
              "       [6.7, 3.3, 5.7, 2.5],\n",
              "       [6.7, 3. , 5.2, 2.3],\n",
              "       [6.3, 2.5, 5. , 1.9],\n",
              "       [6.5, 3. , 5.2, 2. ],\n",
              "       [6.2, 3.4, 5.4, 2.3],\n",
              "       [5.9, 3. , 5.1, 1.8]], dtype=float32)"
            ]
          },
          "metadata": {},
          "execution_count": 9
        }
      ]
    },
    {
      "cell_type": "code",
      "source": [
        "y"
      ],
      "metadata": {
        "colab": {
          "base_uri": "https://localhost:8080/"
        },
        "id": "-_TdEa8U7nXm",
        "outputId": "c2e1c357-2c03-4068-f936-17d093eb5d81"
      },
      "execution_count": 11,
      "outputs": [
        {
          "output_type": "execute_result",
          "data": {
            "text/plain": [
              "array([0, 0, 0, 0, 0, 0, 0, 0, 0, 0, 0, 0, 0, 0, 0, 0, 0, 0, 0, 0, 0, 0,\n",
              "       0, 0, 0, 0, 0, 0, 0, 0, 0, 0, 0, 0, 0, 0, 0, 0, 0, 0, 0, 0, 0, 0,\n",
              "       0, 0, 0, 0, 0, 0, 1, 1, 1, 1, 1, 1, 1, 1, 1, 1, 1, 1, 1, 1, 1, 1,\n",
              "       1, 1, 1, 1, 1, 1, 1, 1, 1, 1, 1, 1, 1, 1, 1, 1, 1, 1, 1, 1, 1, 1,\n",
              "       1, 1, 1, 1, 1, 1, 1, 1, 1, 1, 1, 1, 2, 2, 2, 2, 2, 2, 2, 2, 2, 2,\n",
              "       2, 2, 2, 2, 2, 2, 2, 2, 2, 2, 2, 2, 2, 2, 2, 2, 2, 2, 2, 2, 2, 2,\n",
              "       2, 2, 2, 2, 2, 2, 2, 2, 2, 2, 2, 2, 2, 2, 2, 2, 2, 2])"
            ]
          },
          "metadata": {},
          "execution_count": 11
        }
      ]
    },
    {
      "cell_type": "code",
      "source": [
        "x_train,x_test,y_train,y_test=train_test_split(x,y,test_size=0.10)"
      ],
      "metadata": {
        "id": "U9Kn7aEV7pTh"
      },
      "execution_count": 12,
      "outputs": []
    },
    {
      "cell_type": "code",
      "source": [
        "N_feature=x_train.shape[1]"
      ],
      "metadata": {
        "id": "xpTiY_bK9Nei"
      },
      "execution_count": 13,
      "outputs": []
    },
    {
      "cell_type": "code",
      "source": [
        "N_feature"
      ],
      "metadata": {
        "colab": {
          "base_uri": "https://localhost:8080/"
        },
        "id": "FRh6m_3c_Z8w",
        "outputId": "3caec41e-88d6-4e7c-f2a3-93ead022f56a"
      },
      "execution_count": 14,
      "outputs": [
        {
          "output_type": "execute_result",
          "data": {
            "text/plain": [
              "4"
            ]
          },
          "metadata": {},
          "execution_count": 14
        }
      ]
    },
    {
      "cell_type": "code",
      "source": [
        "model=Sequential()"
      ],
      "metadata": {
        "id": "QH62oeZF_fS4"
      },
      "execution_count": 16,
      "outputs": []
    },
    {
      "cell_type": "code",
      "source": [
        "model.add(Dense(10,activation='relu',kernel_initializer='he_normal',input_shape=(N_feature,)))\n",
        "model.add(Dense(8,activation='relu',kernel_initializer='he_normal'))\n",
        "model.add(Dense(3,activation='softmax'))"
      ],
      "metadata": {
        "id": "ntdP7YkPBJQT"
      },
      "execution_count": 18,
      "outputs": []
    },
    {
      "cell_type": "code",
      "source": [
        "model.compile(optimizer='adam',loss='sparse_categorical_crossentropy',metrics=['accuracy'])"
      ],
      "metadata": {
        "id": "ALq4ovpSDfDo"
      },
      "execution_count": 19,
      "outputs": []
    },
    {
      "cell_type": "code",
      "source": [
        "model.fit(x_train,y_train,epochs=100,batch_size=30)"
      ],
      "metadata": {
        "colab": {
          "base_uri": "https://localhost:8080/"
        },
        "id": "Lveb69QzHFm2",
        "outputId": "f5a4ebb0-e66d-4006-ebaf-25e947a79317"
      },
      "execution_count": 20,
      "outputs": [
        {
          "output_type": "stream",
          "name": "stdout",
          "text": [
            "Epoch 1/100\n",
            "5/5 [==============================] - 1s 6ms/step - loss: 1.1062 - accuracy: 0.3185\n",
            "Epoch 2/100\n",
            "5/5 [==============================] - 0s 5ms/step - loss: 1.1028 - accuracy: 0.3185\n",
            "Epoch 3/100\n",
            "5/5 [==============================] - 0s 5ms/step - loss: 1.1009 - accuracy: 0.3185\n",
            "Epoch 4/100\n",
            "5/5 [==============================] - 0s 4ms/step - loss: 1.1001 - accuracy: 0.3185\n",
            "Epoch 5/100\n",
            "5/5 [==============================] - 0s 5ms/step - loss: 1.0988 - accuracy: 0.3185\n",
            "Epoch 6/100\n",
            "5/5 [==============================] - 0s 7ms/step - loss: 1.0987 - accuracy: 0.3481\n",
            "Epoch 7/100\n",
            "5/5 [==============================] - 0s 5ms/step - loss: 1.0984 - accuracy: 0.3481\n",
            "Epoch 8/100\n",
            "5/5 [==============================] - 0s 5ms/step - loss: 1.0982 - accuracy: 0.3481\n",
            "Epoch 9/100\n",
            "5/5 [==============================] - 0s 7ms/step - loss: 1.0983 - accuracy: 0.3481\n",
            "Epoch 10/100\n",
            "5/5 [==============================] - 0s 5ms/step - loss: 1.0982 - accuracy: 0.3481\n",
            "Epoch 11/100\n",
            "5/5 [==============================] - 0s 5ms/step - loss: 1.0983 - accuracy: 0.3481\n",
            "Epoch 12/100\n",
            "5/5 [==============================] - 0s 5ms/step - loss: 1.0983 - accuracy: 0.3481\n",
            "Epoch 13/100\n",
            "5/5 [==============================] - 0s 5ms/step - loss: 1.0979 - accuracy: 0.3481\n",
            "Epoch 14/100\n",
            "5/5 [==============================] - 0s 5ms/step - loss: 1.0977 - accuracy: 0.3481\n",
            "Epoch 15/100\n",
            "5/5 [==============================] - 0s 4ms/step - loss: 1.0971 - accuracy: 0.3481\n",
            "Epoch 16/100\n",
            "5/5 [==============================] - 0s 5ms/step - loss: 1.0959 - accuracy: 0.3481\n",
            "Epoch 17/100\n",
            "5/5 [==============================] - 0s 4ms/step - loss: 1.0932 - accuracy: 0.3481\n",
            "Epoch 18/100\n",
            "5/5 [==============================] - 0s 7ms/step - loss: 1.0906 - accuracy: 0.3481\n",
            "Epoch 19/100\n",
            "5/5 [==============================] - 0s 6ms/step - loss: 1.0879 - accuracy: 0.3778\n",
            "Epoch 20/100\n",
            "5/5 [==============================] - 0s 7ms/step - loss: 1.0850 - accuracy: 0.4148\n",
            "Epoch 21/100\n",
            "5/5 [==============================] - 0s 7ms/step - loss: 1.0805 - accuracy: 0.5111\n",
            "Epoch 22/100\n",
            "5/5 [==============================] - 0s 7ms/step - loss: 1.0761 - accuracy: 0.5333\n",
            "Epoch 23/100\n",
            "5/5 [==============================] - 0s 8ms/step - loss: 1.0707 - accuracy: 0.5852\n",
            "Epoch 24/100\n",
            "5/5 [==============================] - 0s 7ms/step - loss: 1.0642 - accuracy: 0.6444\n",
            "Epoch 25/100\n",
            "5/5 [==============================] - 0s 6ms/step - loss: 1.0588 - accuracy: 0.6593\n",
            "Epoch 26/100\n",
            "5/5 [==============================] - 0s 6ms/step - loss: 1.0539 - accuracy: 0.6593\n",
            "Epoch 27/100\n",
            "5/5 [==============================] - 0s 6ms/step - loss: 1.0480 - accuracy: 0.6593\n",
            "Epoch 28/100\n",
            "5/5 [==============================] - 0s 7ms/step - loss: 1.0414 - accuracy: 0.6593\n",
            "Epoch 29/100\n",
            "5/5 [==============================] - 0s 8ms/step - loss: 1.0347 - accuracy: 0.6593\n",
            "Epoch 30/100\n",
            "5/5 [==============================] - 0s 5ms/step - loss: 1.0275 - accuracy: 0.6667\n",
            "Epoch 31/100\n",
            "5/5 [==============================] - 0s 7ms/step - loss: 1.0193 - accuracy: 0.6667\n",
            "Epoch 32/100\n",
            "5/5 [==============================] - 0s 5ms/step - loss: 1.0107 - accuracy: 0.6667\n",
            "Epoch 33/100\n",
            "5/5 [==============================] - 0s 7ms/step - loss: 1.0015 - accuracy: 0.6667\n",
            "Epoch 34/100\n",
            "5/5 [==============================] - 0s 7ms/step - loss: 0.9861 - accuracy: 0.6667\n",
            "Epoch 35/100\n",
            "5/5 [==============================] - 0s 6ms/step - loss: 0.9615 - accuracy: 0.7037\n",
            "Epoch 36/100\n",
            "5/5 [==============================] - 0s 5ms/step - loss: 0.9350 - accuracy: 0.6667\n",
            "Epoch 37/100\n",
            "5/5 [==============================] - 0s 5ms/step - loss: 0.9058 - accuracy: 0.6667\n",
            "Epoch 38/100\n",
            "5/5 [==============================] - 0s 5ms/step - loss: 0.8670 - accuracy: 0.7111\n",
            "Epoch 39/100\n",
            "5/5 [==============================] - 0s 7ms/step - loss: 0.8305 - accuracy: 0.7778\n",
            "Epoch 40/100\n",
            "5/5 [==============================] - 0s 6ms/step - loss: 0.7969 - accuracy: 0.7556\n",
            "Epoch 41/100\n",
            "5/5 [==============================] - 0s 4ms/step - loss: 0.7661 - accuracy: 0.7407\n",
            "Epoch 42/100\n",
            "5/5 [==============================] - 0s 5ms/step - loss: 0.7387 - accuracy: 0.7556\n",
            "Epoch 43/100\n",
            "5/5 [==============================] - 0s 5ms/step - loss: 0.7145 - accuracy: 0.7630\n",
            "Epoch 44/100\n",
            "5/5 [==============================] - 0s 5ms/step - loss: 0.6892 - accuracy: 0.7704\n",
            "Epoch 45/100\n",
            "5/5 [==============================] - 0s 5ms/step - loss: 0.6660 - accuracy: 0.7630\n",
            "Epoch 46/100\n",
            "5/5 [==============================] - 0s 5ms/step - loss: 0.6428 - accuracy: 0.7852\n",
            "Epoch 47/100\n",
            "5/5 [==============================] - 0s 5ms/step - loss: 0.6291 - accuracy: 0.8074\n",
            "Epoch 48/100\n",
            "5/5 [==============================] - 0s 6ms/step - loss: 0.6071 - accuracy: 0.8000\n",
            "Epoch 49/100\n",
            "5/5 [==============================] - 0s 5ms/step - loss: 0.5913 - accuracy: 0.8000\n",
            "Epoch 50/100\n",
            "5/5 [==============================] - 0s 5ms/step - loss: 0.5735 - accuracy: 0.8296\n",
            "Epoch 51/100\n",
            "5/5 [==============================] - 0s 5ms/step - loss: 0.5583 - accuracy: 0.8519\n",
            "Epoch 52/100\n",
            "5/5 [==============================] - 0s 5ms/step - loss: 0.5465 - accuracy: 0.8296\n",
            "Epoch 53/100\n",
            "5/5 [==============================] - 0s 6ms/step - loss: 0.5340 - accuracy: 0.8222\n",
            "Epoch 54/100\n",
            "5/5 [==============================] - 0s 6ms/step - loss: 0.5191 - accuracy: 0.8593\n",
            "Epoch 55/100\n",
            "5/5 [==============================] - 0s 6ms/step - loss: 0.5111 - accuracy: 0.8296\n",
            "Epoch 56/100\n",
            "5/5 [==============================] - 0s 6ms/step - loss: 0.4936 - accuracy: 0.8519\n",
            "Epoch 57/100\n",
            "5/5 [==============================] - 0s 6ms/step - loss: 0.4866 - accuracy: 0.8815\n",
            "Epoch 58/100\n",
            "5/5 [==============================] - 0s 5ms/step - loss: 0.4724 - accuracy: 0.8815\n",
            "Epoch 59/100\n",
            "5/5 [==============================] - 0s 6ms/step - loss: 0.4616 - accuracy: 0.8519\n",
            "Epoch 60/100\n",
            "5/5 [==============================] - 0s 6ms/step - loss: 0.4496 - accuracy: 0.8741\n",
            "Epoch 61/100\n",
            "5/5 [==============================] - 0s 6ms/step - loss: 0.4406 - accuracy: 0.8963\n",
            "Epoch 62/100\n",
            "5/5 [==============================] - 0s 6ms/step - loss: 0.4320 - accuracy: 0.8815\n",
            "Epoch 63/100\n",
            "5/5 [==============================] - 0s 5ms/step - loss: 0.4241 - accuracy: 0.8815\n",
            "Epoch 64/100\n",
            "5/5 [==============================] - 0s 5ms/step - loss: 0.4122 - accuracy: 0.9037\n",
            "Epoch 65/100\n",
            "5/5 [==============================] - 0s 7ms/step - loss: 0.4120 - accuracy: 0.9037\n",
            "Epoch 66/100\n",
            "5/5 [==============================] - 0s 6ms/step - loss: 0.4022 - accuracy: 0.8889\n",
            "Epoch 67/100\n",
            "5/5 [==============================] - 0s 7ms/step - loss: 0.3916 - accuracy: 0.8889\n",
            "Epoch 68/100\n",
            "5/5 [==============================] - 0s 6ms/step - loss: 0.3813 - accuracy: 0.9111\n",
            "Epoch 69/100\n",
            "5/5 [==============================] - 0s 5ms/step - loss: 0.3758 - accuracy: 0.9037\n",
            "Epoch 70/100\n",
            "5/5 [==============================] - 0s 6ms/step - loss: 0.3664 - accuracy: 0.9111\n",
            "Epoch 71/100\n",
            "5/5 [==============================] - 0s 7ms/step - loss: 0.3626 - accuracy: 0.9037\n",
            "Epoch 72/100\n",
            "5/5 [==============================] - 0s 6ms/step - loss: 0.3540 - accuracy: 0.9111\n",
            "Epoch 73/100\n",
            "5/5 [==============================] - 0s 8ms/step - loss: 0.3472 - accuracy: 0.9111\n",
            "Epoch 74/100\n",
            "5/5 [==============================] - 0s 8ms/step - loss: 0.3409 - accuracy: 0.9111\n",
            "Epoch 75/100\n",
            "5/5 [==============================] - 0s 8ms/step - loss: 0.3352 - accuracy: 0.9111\n",
            "Epoch 76/100\n",
            "5/5 [==============================] - 0s 7ms/step - loss: 0.3287 - accuracy: 0.9111\n",
            "Epoch 77/100\n",
            "5/5 [==============================] - 0s 6ms/step - loss: 0.3226 - accuracy: 0.9111\n",
            "Epoch 78/100\n",
            "5/5 [==============================] - 0s 6ms/step - loss: 0.3201 - accuracy: 0.9259\n",
            "Epoch 79/100\n",
            "5/5 [==============================] - 0s 6ms/step - loss: 0.3149 - accuracy: 0.9111\n",
            "Epoch 80/100\n",
            "5/5 [==============================] - 0s 6ms/step - loss: 0.3090 - accuracy: 0.9111\n",
            "Epoch 81/100\n",
            "5/5 [==============================] - 0s 7ms/step - loss: 0.3028 - accuracy: 0.9111\n",
            "Epoch 82/100\n",
            "5/5 [==============================] - 0s 7ms/step - loss: 0.2989 - accuracy: 0.9333\n",
            "Epoch 83/100\n",
            "5/5 [==============================] - 0s 6ms/step - loss: 0.2941 - accuracy: 0.9481\n",
            "Epoch 84/100\n",
            "5/5 [==============================] - 0s 7ms/step - loss: 0.2902 - accuracy: 0.9185\n",
            "Epoch 85/100\n",
            "5/5 [==============================] - 0s 7ms/step - loss: 0.2872 - accuracy: 0.9185\n",
            "Epoch 86/100\n",
            "5/5 [==============================] - 0s 8ms/step - loss: 0.2803 - accuracy: 0.9407\n",
            "Epoch 87/100\n",
            "5/5 [==============================] - 0s 7ms/step - loss: 0.2753 - accuracy: 0.9407\n",
            "Epoch 88/100\n",
            "5/5 [==============================] - 0s 8ms/step - loss: 0.2730 - accuracy: 0.9111\n",
            "Epoch 89/100\n",
            "5/5 [==============================] - 0s 8ms/step - loss: 0.2676 - accuracy: 0.9259\n",
            "Epoch 90/100\n",
            "5/5 [==============================] - 0s 7ms/step - loss: 0.2676 - accuracy: 0.9407\n",
            "Epoch 91/100\n",
            "5/5 [==============================] - 0s 8ms/step - loss: 0.2635 - accuracy: 0.9185\n",
            "Epoch 92/100\n",
            "5/5 [==============================] - 0s 7ms/step - loss: 0.2589 - accuracy: 0.9185\n",
            "Epoch 93/100\n",
            "5/5 [==============================] - 0s 8ms/step - loss: 0.2557 - accuracy: 0.9333\n",
            "Epoch 94/100\n",
            "5/5 [==============================] - 0s 7ms/step - loss: 0.2530 - accuracy: 0.9407\n",
            "Epoch 95/100\n",
            "5/5 [==============================] - 0s 7ms/step - loss: 0.2471 - accuracy: 0.9407\n",
            "Epoch 96/100\n",
            "5/5 [==============================] - 0s 7ms/step - loss: 0.2453 - accuracy: 0.9407\n",
            "Epoch 97/100\n",
            "5/5 [==============================] - 0s 7ms/step - loss: 0.2414 - accuracy: 0.9407\n",
            "Epoch 98/100\n",
            "5/5 [==============================] - 0s 6ms/step - loss: 0.2397 - accuracy: 0.9259\n",
            "Epoch 99/100\n",
            "5/5 [==============================] - 0s 6ms/step - loss: 0.2354 - accuracy: 0.9481\n",
            "Epoch 100/100\n",
            "5/5 [==============================] - 0s 5ms/step - loss: 0.2325 - accuracy: 0.9407\n"
          ]
        },
        {
          "output_type": "execute_result",
          "data": {
            "text/plain": [
              "<keras.src.callbacks.History at 0x7aa94b445840>"
            ]
          },
          "metadata": {},
          "execution_count": 20
        }
      ]
    },
    {
      "cell_type": "code",
      "source": [
        "new_data=[1.5,2.2,0.4,0.5]"
      ],
      "metadata": {
        "id": "B7uGx3BcHpK9"
      },
      "execution_count": 21,
      "outputs": []
    },
    {
      "cell_type": "code",
      "source": [
        "y_pred=model.predict([new_data])"
      ],
      "metadata": {
        "colab": {
          "base_uri": "https://localhost:8080/"
        },
        "id": "fe4_QKgwILwC",
        "outputId": "0037f278-90b6-442f-808a-e61812c9da78"
      },
      "execution_count": 22,
      "outputs": [
        {
          "output_type": "stream",
          "name": "stdout",
          "text": [
            "1/1 [==============================] - 0s 480ms/step\n"
          ]
        }
      ]
    },
    {
      "cell_type": "code",
      "source": [
        "y_pred"
      ],
      "metadata": {
        "colab": {
          "base_uri": "https://localhost:8080/"
        },
        "id": "K4BlwdEWIfQl",
        "outputId": "789e2c27-9173-48f5-f693-d5c9e999ab16"
      },
      "execution_count": 23,
      "outputs": [
        {
          "output_type": "execute_result",
          "data": {
            "text/plain": [
              "array([[0.8242071 , 0.16195509, 0.01383775]], dtype=float32)"
            ]
          },
          "metadata": {},
          "execution_count": 23
        }
      ]
    },
    {
      "cell_type": "code",
      "source": [
        "acc_score=model.evaluate(x_test,y_test)"
      ],
      "metadata": {
        "id": "Lv_d4mhVIlg9",
        "colab": {
          "base_uri": "https://localhost:8080/"
        },
        "outputId": "965e9b11-71f7-4111-bb9f-933c5f3025b6"
      },
      "execution_count": 24,
      "outputs": [
        {
          "output_type": "stream",
          "name": "stdout",
          "text": [
            "1/1 [==============================] - 0s 202ms/step - loss: 0.1875 - accuracy: 1.0000\n"
          ]
        }
      ]
    },
    {
      "cell_type": "code",
      "source": [
        "acc_score"
      ],
      "metadata": {
        "colab": {
          "base_uri": "https://localhost:8080/"
        },
        "id": "DOYdXL6k1poY",
        "outputId": "e3904422-15fc-4760-efb2-007fb6ddbdad"
      },
      "execution_count": 25,
      "outputs": [
        {
          "output_type": "execute_result",
          "data": {
            "text/plain": [
              "[0.18745547533035278, 1.0]"
            ]
          },
          "metadata": {},
          "execution_count": 25
        }
      ]
    },
    {
      "cell_type": "code",
      "source": [],
      "metadata": {
        "id": "uysT8SXM3BUi"
      },
      "execution_count": 25,
      "outputs": []
    }
  ]
}